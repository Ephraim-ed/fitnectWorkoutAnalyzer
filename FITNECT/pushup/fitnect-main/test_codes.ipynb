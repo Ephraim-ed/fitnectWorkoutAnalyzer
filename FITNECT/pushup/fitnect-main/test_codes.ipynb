{
 "cells": [
  {
   "cell_type": "code",
   "execution_count": null,
   "metadata": {},
   "outputs": [],
   "source": [
    "def main():\n",
    "    cap = cv2.VideoCapture('PoseVideos/1.mp4')\n",
    "    pTime = 0\n",
    "    detector = poseDetector()\n",
    "    while True:\n",
    "        success, img = cap.read()\n",
    "        img = detector.findPose(img)\n",
    "        lmList = detector.findPosition(img, draw=False)\n",
    "        if len(lmList) != 0:\n",
    "            print(lmList[14])\n",
    "            cv2.circle(img, (lmList[14][1], lmList[14][2]), 15, (0, 0, 255), cv2.FILLED)\n",
    "\n",
    "        cTime = time.time()\n",
    "        fps = 1 / (cTime - pTime)\n",
    "        pTime = cTime\n",
    "\n",
    "        cv2.putText(img, str(int(fps)), (70, 50), cv2.FONT_HERSHEY_PLAIN, 3,\n",
    "                    (255, 0, 0), 3)\n",
    "\n",
    "        cv2.imshow(\"Image\", img)\n",
    "        cv2.waitKey(1)\n"
   ]
  },
  {
   "cell_type": "code",
   "execution_count": null,
   "metadata": {},
   "outputs": [],
   "source": [
    "def __init__(self, mode=False, upBody=False, smooth=True,\n",
    "                 detectionCon=0.5, trackCon=0.5):\n",
    "\n",
    "        self.mode = mode\n",
    "        self.upBody = upBody\n",
    "        self.smooth = smooth\n",
    "        self.detectionCon = detectionCon\n",
    "        self.trackCon = trackCon\n",
    "\n",
    "        self.mpDraw = mp.solutions.drawing_utils\n",
    "        self.mpPose = mp.solutions.pose\n",
    "        self.pose = self.mpPose.Pose(self.mode, self.upBody, self.smooth,\n",
    "                                     self.detectionCon, self.trackCon)"
   ]
  },
  {
   "cell_type": "code",
   "execution_count": null,
   "metadata": {},
   "outputs": [],
   "source": []
  }
 ],
 "metadata": {
  "language_info": {
   "name": "python"
  }
 },
 "nbformat": 4,
 "nbformat_minor": 2
}
